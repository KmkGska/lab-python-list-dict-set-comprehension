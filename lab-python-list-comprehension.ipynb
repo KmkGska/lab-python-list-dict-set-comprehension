{
 "cells": [
  {
   "cell_type": "markdown",
   "id": "25d7736c-ba17-4aff-b6bb-66eba20fbf4e",
   "metadata": {},
   "source": [
    "# Lab | List, Dict and Set Comprehension"
   ]
  },
  {
   "cell_type": "markdown",
   "id": "7dd3cbde-675a-4b81-92c3-f728846dbe06",
   "metadata": {},
   "source": [
    "## Exercise: Managing Customer Orders Optimized with Comprehension"
   ]
  },
  {
   "cell_type": "markdown",
   "id": "5d500160-2fb7-4777-b5e4-09d45ebaf328",
   "metadata": {},
   "source": [
    "In the previous exercise, you developed a program to manage customer orders and inventory. Now, let's take it a step further and incorporate comprehension into your code.\n",
    "\n",
    "Follow the steps below to complete the exercise:\n",
    "\n",
    "1. Review your code from the previous exercise and identify areas where you can apply comprehension to simplify and streamline your code. \n",
    "\n",
    "    - *Hint: Apply it to initialize inventory, updating the inventory and printing the updated inventory.*\n",
    "    \n",
    "    - For example, in initializing the inventory, we could have:\n",
    "    \n",
    "        ```python\n",
    "        def initialize_inventory(products):\n",
    "            inventory = {product: int(input(f\"Enter the quantity of {product}s available: \")) for product in products}\n",
    "            return inventory\n",
    "\n",
    "        ```\n",
    "<br>\n",
    "    \n",
    "    \n",
    "2. Modify the function get_customer_orders so it prompts the user to enter the number of customer orders and gathers the product names using a loop and user input. Use comprehension.\n",
    "\n",
    "3. Add a new function to calculate the total price of the customer order. For each product in customer_orders, prompt the user to enter the price of that product. Use comprehension to calculate the total price. Note: assume that the user can only have 1 unit of each product.\n",
    "\n",
    "4. Modify the update_inventory function to remove the product from the inventory if its quantity becomes zero after fulfilling the customer orders. Use comprehension to filter out the products with a quantity of zero from the inventory.\n",
    "\n",
    "5. Print the total price of the customer order.\n",
    "\n",
    "Your code should produce output similar to the following:\n",
    "\n",
    "```python\n",
    "Enter the quantity of t-shirts available:  5\n",
    "Enter the quantity of mugs available:  4\n",
    "Enter the quantity of hats available:  3\n",
    "Enter the quantity of books available:  2\n",
    "Enter the quantity of keychains available:  1\n",
    "Enter the number of customer orders:  2\n",
    "Enter the name of a product that a customer wants to order:  hat\n",
    "Enter the name of a product that a customer wants to order:  keychain\n",
    "\n",
    "Order Statistics:\n",
    "Total Products Ordered: 2\n",
    "Percentage of Unique Products Ordered: 40.0\n",
    "\n",
    "Updated Inventory:\n",
    "t-shirt: 5\n",
    "mug: 4\n",
    "hat: 2\n",
    "book: 2\n",
    "Enter the price of keychain:  5\n",
    "Enter the price of hat:  10\n",
    "Total Price: 15.0\n",
    "\n",
    "```\n"
   ]
  },
  {
   "cell_type": "code",
   "execution_count": 1,
   "id": "d463b84d-3060-4a00-97e7-c28d8092f063",
   "metadata": {},
   "outputs": [],
   "source": [
    "products = [\"t-shirt\", \"mug\", \"hat\", \"book\", \"keychain\"]"
   ]
  },
  {
   "cell_type": "code",
   "execution_count": 2,
   "id": "6d605152-847d-4830-8516-4329ab831b00",
   "metadata": {},
   "outputs": [],
   "source": [
    "def initialize_inventory(products):\n",
    "    inventory = {product: int(input(f\"Enter the quantity of {product}s available: \")) for product in products}\n",
    "    return inventory"
   ]
  },
  {
   "cell_type": "code",
   "execution_count": 3,
   "id": "3e8d04c6-b59b-4660-bffd-b6e0c8903fd5",
   "metadata": {},
   "outputs": [
    {
     "name": "stdin",
     "output_type": "stream",
     "text": [
      "Enter the quantity of t-shirts available:  5\n",
      "Enter the quantity of mugs available:  5\n",
      "Enter the quantity of hats available:  5\n",
      "Enter the quantity of books available:  5\n",
      "Enter the quantity of keychains available:  5\n"
     ]
    },
    {
     "name": "stdout",
     "output_type": "stream",
     "text": [
      "\n",
      "Inventory:\n",
      "{'t-shirt': 5, 'mug': 5, 'hat': 5, 'book': 5, 'keychain': 5}\n"
     ]
    }
   ],
   "source": [
    "inventory = initialize_inventory(products)\n",
    "\n",
    "print(\"\\nInventory:\")\n",
    "print(inventory)"
   ]
  },
  {
   "cell_type": "code",
   "execution_count": null,
   "id": "6fe2a82b-4d8e-4cdb-b561-003f5fa974b3",
   "metadata": {},
   "outputs": [],
   "source": [
    "#Modify the function get_customer_orders \n",
    "#so it prompts the user to enter the number of customer orders \n",
    "#and gathers the product names using a loop and user input. Use comprehension."
   ]
  },
  {
   "cell_type": "code",
   "execution_count": 4,
   "id": "f553ba2c-7618-4604-89de-aa1cde6cf0ec",
   "metadata": {},
   "outputs": [],
   "source": [
    "def get_customer_orders():\n",
    "    customer_orders = {}\n",
    "\n",
    "    # Prompt for the number of customer orders\n",
    "    num_orders = int(input(\"Enter the number of product orders: \"))\n",
    "\n",
    "    # Gather product names and quantities\n",
    "    for _ in range(num_orders):\n",
    "        product_name = input(\"Enter the name of a product to order: \").strip().lower()\n",
    "\n",
    "        # Check if the product is in inventory\n",
    "        if product_name in inventory:\n",
    "            quantity = 1\n",
    "            if quantity <= inventory[product_name]:\n",
    "                customer_orders[product_name] = quantity\n",
    "                print(f\"{product_name} has been added to your order\")\n",
    "            else:\n",
    "                print(f\"Sorry, {product_name} is not anymore available in the inventory.\")\n",
    "        else:\n",
    "            print(f\"Sorry, {product_name} is not available in the inventory.\")\n",
    "\n",
    "    # Ask if they want to add another product\n",
    "        another = input(\"Do you want to add another product? (yes/no): \").strip().lower()\n",
    "        if another != 'yes': \n",
    "            break\n",
    "\n",
    "    return customer_orders"
   ]
  },
  {
   "cell_type": "code",
   "execution_count": 5,
   "id": "13cb8aed-9aba-476a-a009-1a7e05672826",
   "metadata": {},
   "outputs": [
    {
     "name": "stdin",
     "output_type": "stream",
     "text": [
      "Enter the number of product orders:  2\n",
      "Enter the name of a product to order:  mug\n"
     ]
    },
    {
     "name": "stdout",
     "output_type": "stream",
     "text": [
      "mug has been added to your order\n"
     ]
    },
    {
     "name": "stdin",
     "output_type": "stream",
     "text": [
      "Do you want to add another product? (yes/no):  yes\n",
      "Enter the name of a product to order:  book\n"
     ]
    },
    {
     "name": "stdout",
     "output_type": "stream",
     "text": [
      "book has been added to your order\n"
     ]
    },
    {
     "name": "stdin",
     "output_type": "stream",
     "text": [
      "Do you want to add another product? (yes/no):  no\n"
     ]
    }
   ],
   "source": [
    "customer_orders = get_customer_orders()"
   ]
  },
  {
   "cell_type": "code",
   "execution_count": 6,
   "id": "131d0a4b-9bab-4051-9e9d-7a8cb21ec413",
   "metadata": {},
   "outputs": [
    {
     "name": "stdout",
     "output_type": "stream",
     "text": [
      "{'mug': 1, 'book': 1}\n"
     ]
    }
   ],
   "source": [
    "print(customer_orders)"
   ]
  },
  {
   "cell_type": "code",
   "execution_count": null,
   "id": "1f2689ea-316c-47ba-9677-c06bed656079",
   "metadata": {},
   "outputs": [],
   "source": [
    "#Add a new function to calculate the total price of the customer order. \n",
    "#For each product in customer_orders, prompt the user to enter the price of that product. \n",
    "#Use comprehension to calculate the total price. Note: assume that the user can only have 1 unit of each product.\n"
   ]
  },
  {
   "cell_type": "code",
   "execution_count": 18,
   "id": "8dc855e9-3136-475a-ad6a-a527ab22df91",
   "metadata": {},
   "outputs": [
    {
     "name": "stdin",
     "output_type": "stream",
     "text": [
      "Enter the price of mug:  10\n",
      "Enter the price of book:  20\n"
     ]
    },
    {
     "name": "stdout",
     "output_type": "stream",
     "text": [
      "\n",
      "Total price of your order: $30.00\n"
     ]
    }
   ],
   "source": [
    "def calculate_total_price_of_customer_order(customer_orders):\n",
    "\n",
    "    # Prompt user for price of each product in the order\n",
    "    prices = {product: float(input(f\"Enter the price of {product}: \")) \n",
    "              for product in customer_orders}\n",
    "\n",
    "    # Calculate total using comprehension\n",
    "    total_price_of_customer_order = sum(prices[product] * quantity for product, quantity in customer_orders.items())\n",
    "\n",
    "    return total_price_of_customer_order\n",
    "\n",
    "if customer_orders:\n",
    "    total_price_of_customer_order = calculate_total_price_of_customer_order(customer_orders)\n",
    "    print(f\"\\nTotal price of your order: ${total_price_of_customer_order:.2f}\")\n",
    "else:\n",
    "    print(\"\\nNo products ordered.\")"
   ]
  },
  {
   "cell_type": "code",
   "execution_count": null,
   "id": "51d18c1c-db49-4bda-a726-5682ed8b3ad6",
   "metadata": {},
   "outputs": [],
   "source": [
    "#Modify the update_inventory function \n",
    "#to remove the product from the inventory if its quantity becomes zero after fulfilling the customer orders. \n",
    "#Use comprehension to filter out the products with a quantity of zero from the inventory."
   ]
  },
  {
   "cell_type": "code",
   "execution_count": 19,
   "id": "e5b4d4c1-0b9d-4f62-8493-f5e3e5bc5383",
   "metadata": {},
   "outputs": [],
   "source": [
    "def update_inventory(customer_orders, inventory):\n",
    "    # Update inventory quantities\n",
    "    for product, quantity in customer_orders.items():\n",
    "        if product in inventory:\n",
    "            inventory[product] -= quantity\n",
    "            if inventory[product] > 0:\n",
    "                print(f\"Updated inventory: {product} now has {inventory[product]} left.\")\n",
    "            else:\n",
    "                print(f\"{product} is now out of stock and will be removed from inventory.\")\n",
    "        else:\n",
    "            print(f\"Error: {product} is not in the inventory.\")\n",
    "\n",
    "    # Remove products with zero quantity using comprehension\n",
    "    inventory = {product: qty for product, qty in inventory.items() if qty > 0}\n",
    "\n",
    "    return inventory"
   ]
  },
  {
   "cell_type": "code",
   "execution_count": 20,
   "id": "00483c18-0c33-43ef-9136-b339c4c9905e",
   "metadata": {},
   "outputs": [
    {
     "name": "stdout",
     "output_type": "stream",
     "text": [
      "Updated inventory: mug now has 4 left.\n",
      "Updated inventory: book now has 4 left.\n",
      "{'t-shirt': 5, 'mug': 4, 'hat': 5, 'book': 4, 'keychain': 5}\n"
     ]
    }
   ],
   "source": [
    "updated_inventory = update_inventory(customer_orders, inventory)\n",
    "print(updated_inventory)"
   ]
  },
  {
   "cell_type": "code",
   "execution_count": 31,
   "id": "db359ab9-8e3c-4db6-a0fb-f5ace2bc382c",
   "metadata": {},
   "outputs": [],
   "source": [
    "def calculate_order_statistics(customer_orders, products):\n",
    "    total_products_ordered = sum(customer_orders.values())\n",
    "    unique_products_ordered = len(customer_orders)\n",
    "    total_unique_products = len(products)\n",
    "\n",
    "    percentage_of_unique_products_ordered = (\n",
    "        (unique_products_ordered / total_unique_products) * 100\n",
    "        if total_unique_products > 0 else 0\n",
    "    )\n",
    "\n",
    "    # ensure it is a float\n",
    "    return total_products_ordered, float(percentage_of_unique_products_ordered)"
   ]
  },
  {
   "cell_type": "code",
   "execution_count": 32,
   "id": "9e33db71-01cf-48b6-aa8f-d3e0fb1561ca",
   "metadata": {},
   "outputs": [],
   "source": [
    "order_statistic = calculate_order_statistics(customer_orders, products)"
   ]
  },
  {
   "cell_type": "code",
   "execution_count": 33,
   "id": "f25f1eda-af09-4725-9db6-f55bfec8e789",
   "metadata": {},
   "outputs": [],
   "source": [
    "def print_order_statistics(order_statistic):\n",
    "    total_products_ordered, percentage_of_unique_products_ordered = order_statistic\n",
    "    \n",
    "    print(f\"Total number of ordered products: {total_products_ordered}\")\n",
    "    print(f\"Percentage of unique products ordered: {percentage_of_unique_products_ordered:.2f}%\")"
   ]
  },
  {
   "cell_type": "code",
   "execution_count": 34,
   "id": "432dc8da-80af-4e2b-8b19-dccc6dd3e722",
   "metadata": {},
   "outputs": [
    {
     "name": "stdout",
     "output_type": "stream",
     "text": [
      "Total number of ordered products: 2\n",
      "Percentage of unique products ordered: 40.00%\n"
     ]
    }
   ],
   "source": [
    "print_order_statistics(order_statistic)"
   ]
  },
  {
   "cell_type": "code",
   "execution_count": 35,
   "id": "c0ad39a3-7cdf-47f6-80e9-06d676890bf2",
   "metadata": {},
   "outputs": [],
   "source": [
    "def print_updated_inventory (inventory):\n",
    "\n",
    "    print(\"Final updated Inventory:\")\n",
    "    for product, quantity in inventory.items():\n",
    "        print(f\"{product}: {quantity}\")"
   ]
  },
  {
   "cell_type": "code",
   "execution_count": 36,
   "id": "191fdb96-0726-4fd3-99a1-b1aa7622c85c",
   "metadata": {},
   "outputs": [
    {
     "name": "stdout",
     "output_type": "stream",
     "text": [
      "Final updated Inventory:\n",
      "t-shirt: 5\n",
      "mug: 4\n",
      "hat: 5\n",
      "book: 4\n",
      "keychain: 5\n"
     ]
    }
   ],
   "source": [
    "print_updated_inventory (inventory)"
   ]
  },
  {
   "cell_type": "code",
   "execution_count": null,
   "id": "86edec06-3d4a-4d77-b64b-3a4d8d18f21e",
   "metadata": {},
   "outputs": [],
   "source": []
  }
 ],
 "metadata": {
  "kernelspec": {
   "display_name": "Python [conda env:base] *",
   "language": "python",
   "name": "conda-base-py"
  },
  "language_info": {
   "codemirror_mode": {
    "name": "ipython",
    "version": 3
   },
   "file_extension": ".py",
   "mimetype": "text/x-python",
   "name": "python",
   "nbconvert_exporter": "python",
   "pygments_lexer": "ipython3",
   "version": "3.11.5"
  }
 },
 "nbformat": 4,
 "nbformat_minor": 5
}
